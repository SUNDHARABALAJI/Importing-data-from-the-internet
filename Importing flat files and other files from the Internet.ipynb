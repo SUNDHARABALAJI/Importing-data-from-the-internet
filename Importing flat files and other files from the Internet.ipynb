{
  "cells":[
    {
      "cell_type":"markdown",
      "source":[
        "# **Importing flat file from the web and saving locally**"
      ],
      "attachments":{
        
      },
      "metadata":{
        
      }
    },
    {
      "cell_type":"code",
      "source":[
        "from urllib.request import urlretrieve\n",
        "import pandas as pd"
      ],
      "execution_count":3,
      "outputs":[
        
      ],
      "metadata":{
        
      }
    },
    {
      "cell_type":"code",
      "source":[
        "url='https:\/\/s3.amazonaws.com\/assets.datacamp.com\/production\/course_1606\/datasets\/winequality-red.csv'\n",
        "urlretrieve(url,'winequality-red.csv')"
      ],
      "execution_count":4,
      "outputs":[
        {
          "data":{
            "text\/plain":[
              "('winequality-red.csv', <http.client.HTTPMessage at 0x7fe688c5c940>)"
            ]
          },
          "metadata":{
            
          },
          "output_type":"display_data"
        }
      ],
      "metadata":{
        
      }
    },
    {
      "cell_type":"code",
      "source":[
        "df=pd.read_csv('winequality-red.csv',sep=';')\n",
        "df.head()"
      ],
      "execution_count":5,
      "outputs":[
        {
          "data":{
            "text\/html":[
              "<div>\n",
              "<style scoped>\n",
              "    .dataframe tbody tr th:only-of-type {\n",
              "        vertical-align: middle;\n",
              "    }\n",
              "\n",
              "    .dataframe tbody tr th {\n",
              "        vertical-align: top;\n",
              "    }\n",
              "\n",
              "    .dataframe thead th {\n",
              "        text-align: right;\n",
              "    }\n",
              "<\/style>\n",
              "<table border=\"1\" class=\"dataframe\">\n",
              "  <thead>\n",
              "    <tr style=\"text-align: right;\">\n",
              "      <th><\/th>\n",
              "      <th>fixed acidity<\/th>\n",
              "      <th>volatile acidity<\/th>\n",
              "      <th>citric acid<\/th>\n",
              "      <th>residual sugar<\/th>\n",
              "      <th>chlorides<\/th>\n",
              "      <th>free sulfur dioxide<\/th>\n",
              "      <th>total sulfur dioxide<\/th>\n",
              "      <th>density<\/th>\n",
              "      <th>pH<\/th>\n",
              "      <th>sulphates<\/th>\n",
              "      <th>alcohol<\/th>\n",
              "      <th>quality<\/th>\n",
              "    <\/tr>\n",
              "  <\/thead>\n",
              "  <tbody>\n",
              "    <tr>\n",
              "      <th>0<\/th>\n",
              "      <td>7.4<\/td>\n",
              "      <td>0.70<\/td>\n",
              "      <td>0.00<\/td>\n",
              "      <td>1.9<\/td>\n",
              "      <td>0.076<\/td>\n",
              "      <td>11.0<\/td>\n",
              "      <td>34.0<\/td>\n",
              "      <td>0.9978<\/td>\n",
              "      <td>3.51<\/td>\n",
              "      <td>0.56<\/td>\n",
              "      <td>9.4<\/td>\n",
              "      <td>5<\/td>\n",
              "    <\/tr>\n",
              "    <tr>\n",
              "      <th>1<\/th>\n",
              "      <td>7.8<\/td>\n",
              "      <td>0.88<\/td>\n",
              "      <td>0.00<\/td>\n",
              "      <td>2.6<\/td>\n",
              "      <td>0.098<\/td>\n",
              "      <td>25.0<\/td>\n",
              "      <td>67.0<\/td>\n",
              "      <td>0.9968<\/td>\n",
              "      <td>3.20<\/td>\n",
              "      <td>0.68<\/td>\n",
              "      <td>9.8<\/td>\n",
              "      <td>5<\/td>\n",
              "    <\/tr>\n",
              "    <tr>\n",
              "      <th>2<\/th>\n",
              "      <td>7.8<\/td>\n",
              "      <td>0.76<\/td>\n",
              "      <td>0.04<\/td>\n",
              "      <td>2.3<\/td>\n",
              "      <td>0.092<\/td>\n",
              "      <td>15.0<\/td>\n",
              "      <td>54.0<\/td>\n",
              "      <td>0.9970<\/td>\n",
              "      <td>3.26<\/td>\n",
              "      <td>0.65<\/td>\n",
              "      <td>9.8<\/td>\n",
              "      <td>5<\/td>\n",
              "    <\/tr>\n",
              "    <tr>\n",
              "      <th>3<\/th>\n",
              "      <td>11.2<\/td>\n",
              "      <td>0.28<\/td>\n",
              "      <td>0.56<\/td>\n",
              "      <td>1.9<\/td>\n",
              "      <td>0.075<\/td>\n",
              "      <td>17.0<\/td>\n",
              "      <td>60.0<\/td>\n",
              "      <td>0.9980<\/td>\n",
              "      <td>3.16<\/td>\n",
              "      <td>0.58<\/td>\n",
              "      <td>9.8<\/td>\n",
              "      <td>6<\/td>\n",
              "    <\/tr>\n",
              "    <tr>\n",
              "      <th>4<\/th>\n",
              "      <td>7.4<\/td>\n",
              "      <td>0.70<\/td>\n",
              "      <td>0.00<\/td>\n",
              "      <td>1.9<\/td>\n",
              "      <td>0.076<\/td>\n",
              "      <td>11.0<\/td>\n",
              "      <td>34.0<\/td>\n",
              "      <td>0.9978<\/td>\n",
              "      <td>3.51<\/td>\n",
              "      <td>0.56<\/td>\n",
              "      <td>9.4<\/td>\n",
              "      <td>5<\/td>\n",
              "    <\/tr>\n",
              "  <\/tbody>\n",
              "<\/table>\n",
              "<\/div>"
            ]
          },
          "metadata":{
            
          },
          "output_type":"display_data"
        }
      ],
      "metadata":{
        
      }
    },
    {
      "cell_type":"markdown",
      "source":[
        "# **Importing flat file from the web without saving locally**"
      ],
      "attachments":{
        
      },
      "metadata":{
        
      }
    },
    {
      "cell_type":"code",
      "source":[
        "import pandas as pd\n",
        "import matplotlib.pyplot as plt\n",
        "import seaborn as sns"
      ],
      "execution_count":6,
      "outputs":[
        
      ],
      "metadata":{
        
      }
    },
    {
      "cell_type":"code",
      "source":[
        "url='https:\/\/s3.amazonaws.com\/assets.datacamp.com\/production\/course_1606\/datasets\/winequality-red.csv'\n",
        "df=pd.read_csv(url,sep=';')\n",
        "df.head()"
      ],
      "execution_count":7,
      "outputs":[
        {
          "data":{
            "text\/html":[
              "<div>\n",
              "<style scoped>\n",
              "    .dataframe tbody tr th:only-of-type {\n",
              "        vertical-align: middle;\n",
              "    }\n",
              "\n",
              "    .dataframe tbody tr th {\n",
              "        vertical-align: top;\n",
              "    }\n",
              "\n",
              "    .dataframe thead th {\n",
              "        text-align: right;\n",
              "    }\n",
              "<\/style>\n",
              "<table border=\"1\" class=\"dataframe\">\n",
              "  <thead>\n",
              "    <tr style=\"text-align: right;\">\n",
              "      <th><\/th>\n",
              "      <th>fixed acidity<\/th>\n",
              "      <th>volatile acidity<\/th>\n",
              "      <th>citric acid<\/th>\n",
              "      <th>residual sugar<\/th>\n",
              "      <th>chlorides<\/th>\n",
              "      <th>free sulfur dioxide<\/th>\n",
              "      <th>total sulfur dioxide<\/th>\n",
              "      <th>density<\/th>\n",
              "      <th>pH<\/th>\n",
              "      <th>sulphates<\/th>\n",
              "      <th>alcohol<\/th>\n",
              "      <th>quality<\/th>\n",
              "    <\/tr>\n",
              "  <\/thead>\n",
              "  <tbody>\n",
              "    <tr>\n",
              "      <th>0<\/th>\n",
              "      <td>7.4<\/td>\n",
              "      <td>0.70<\/td>\n",
              "      <td>0.00<\/td>\n",
              "      <td>1.9<\/td>\n",
              "      <td>0.076<\/td>\n",
              "      <td>11.0<\/td>\n",
              "      <td>34.0<\/td>\n",
              "      <td>0.9978<\/td>\n",
              "      <td>3.51<\/td>\n",
              "      <td>0.56<\/td>\n",
              "      <td>9.4<\/td>\n",
              "      <td>5<\/td>\n",
              "    <\/tr>\n",
              "    <tr>\n",
              "      <th>1<\/th>\n",
              "      <td>7.8<\/td>\n",
              "      <td>0.88<\/td>\n",
              "      <td>0.00<\/td>\n",
              "      <td>2.6<\/td>\n",
              "      <td>0.098<\/td>\n",
              "      <td>25.0<\/td>\n",
              "      <td>67.0<\/td>\n",
              "      <td>0.9968<\/td>\n",
              "      <td>3.20<\/td>\n",
              "      <td>0.68<\/td>\n",
              "      <td>9.8<\/td>\n",
              "      <td>5<\/td>\n",
              "    <\/tr>\n",
              "    <tr>\n",
              "      <th>2<\/th>\n",
              "      <td>7.8<\/td>\n",
              "      <td>0.76<\/td>\n",
              "      <td>0.04<\/td>\n",
              "      <td>2.3<\/td>\n",
              "      <td>0.092<\/td>\n",
              "      <td>15.0<\/td>\n",
              "      <td>54.0<\/td>\n",
              "      <td>0.9970<\/td>\n",
              "      <td>3.26<\/td>\n",
              "      <td>0.65<\/td>\n",
              "      <td>9.8<\/td>\n",
              "      <td>5<\/td>\n",
              "    <\/tr>\n",
              "    <tr>\n",
              "      <th>3<\/th>\n",
              "      <td>11.2<\/td>\n",
              "      <td>0.28<\/td>\n",
              "      <td>0.56<\/td>\n",
              "      <td>1.9<\/td>\n",
              "      <td>0.075<\/td>\n",
              "      <td>17.0<\/td>\n",
              "      <td>60.0<\/td>\n",
              "      <td>0.9980<\/td>\n",
              "      <td>3.16<\/td>\n",
              "      <td>0.58<\/td>\n",
              "      <td>9.8<\/td>\n",
              "      <td>6<\/td>\n",
              "    <\/tr>\n",
              "    <tr>\n",
              "      <th>4<\/th>\n",
              "      <td>7.4<\/td>\n",
              "      <td>0.70<\/td>\n",
              "      <td>0.00<\/td>\n",
              "      <td>1.9<\/td>\n",
              "      <td>0.076<\/td>\n",
              "      <td>11.0<\/td>\n",
              "      <td>34.0<\/td>\n",
              "      <td>0.9978<\/td>\n",
              "      <td>3.51<\/td>\n",
              "      <td>0.56<\/td>\n",
              "      <td>9.4<\/td>\n",
              "      <td>5<\/td>\n",
              "    <\/tr>\n",
              "  <\/tbody>\n",
              "<\/table>\n",
              "<\/div>"
            ]
          },
          "metadata":{
            
          },
          "output_type":"display_data"
        }
      ],
      "metadata":{
        
      }
    },
    {
      "cell_type":"code",
      "source":[
        "sns.set()\n",
        "pd.DataFrame.hist(df[['fixed acidity']])\n",
        "plt.xlabel('fixed acidity (g(tartaric acid)\/dm$^3$)')\n",
        "plt.ylabel('count')\n",
        "plt.show()"
      ],
      "execution_count":8,
      "outputs":[
        {
          "data":{
            "image\/png":"[encoded data removed]"
          },
          "metadata":{
            "image\/png":{
              
            }
          },
          "output_type":"display_data"
        }
      ],
      "metadata":{
        
      }
    },
    {
      "cell_type":"markdown",
      "source":[
        "# **Importing other file from the web and saving locally**"
      ],
      "attachments":{
        
      },
      "metadata":{
        
      }
    },
    {
      "cell_type":"code",
      "source":[
        "from urllib.request import urlretrieve\n",
        "import pandas as pd"
      ],
      "execution_count":9,
      "outputs":[
        
      ],
      "metadata":{
        
      }
    },
    {
      "cell_type":"code",
      "source":[
        "url='http:\/\/s3.amazonaws.com\/assets.datacamp.com\/course\/importing_data_into_r\/latitude.xls'\n",
        "urlretrieve(url,'year.xlsx')"
      ],
      "execution_count":10,
      "outputs":[
        {
          "data":{
            "text\/plain":[
              "('year.xlsx', <http.client.HTTPMessage at 0x7fe63c514310>)"
            ]
          },
          "metadata":{
            
          },
          "output_type":"display_data"
        }
      ],
      "metadata":{
        
      }
    },
    {
      "cell_type":"code",
      "source":[
        "xls=pd.ExcelFile('year.xlsx')\n",
        "print(xls.sheet_names)"
      ],
      "execution_count":11,
      "outputs":[
        {
          "name":"stdout",
          "text":[
            "['1700', '1900']\n"
          ],
          "output_type":"stream"
        }
      ],
      "metadata":{
        
      }
    },
    {
      "cell_type":"code",
      "source":[
        "df1=xls.parse('1700')\n",
        "df1.head()"
      ],
      "execution_count":12,
      "outputs":[
        {
          "data":{
            "text\/html":[
              "<div>\n",
              "<style scoped>\n",
              "    .dataframe tbody tr th:only-of-type {\n",
              "        vertical-align: middle;\n",
              "    }\n",
              "\n",
              "    .dataframe tbody tr th {\n",
              "        vertical-align: top;\n",
              "    }\n",
              "\n",
              "    .dataframe thead th {\n",
              "        text-align: right;\n",
              "    }\n",
              "<\/style>\n",
              "<table border=\"1\" class=\"dataframe\">\n",
              "  <thead>\n",
              "    <tr style=\"text-align: right;\">\n",
              "      <th><\/th>\n",
              "      <th>country<\/th>\n",
              "      <th>1700<\/th>\n",
              "    <\/tr>\n",
              "  <\/thead>\n",
              "  <tbody>\n",
              "    <tr>\n",
              "      <th>0<\/th>\n",
              "      <td>Afghanistan<\/td>\n",
              "      <td>34.565000<\/td>\n",
              "    <\/tr>\n",
              "    <tr>\n",
              "      <th>1<\/th>\n",
              "      <td>Akrotiri and Dhekelia<\/td>\n",
              "      <td>34.616667<\/td>\n",
              "    <\/tr>\n",
              "    <tr>\n",
              "      <th>2<\/th>\n",
              "      <td>Albania<\/td>\n",
              "      <td>41.312000<\/td>\n",
              "    <\/tr>\n",
              "    <tr>\n",
              "      <th>3<\/th>\n",
              "      <td>Algeria<\/td>\n",
              "      <td>36.720000<\/td>\n",
              "    <\/tr>\n",
              "    <tr>\n",
              "      <th>4<\/th>\n",
              "      <td>American Samoa<\/td>\n",
              "      <td>-14.307000<\/td>\n",
              "    <\/tr>\n",
              "  <\/tbody>\n",
              "<\/table>\n",
              "<\/div>"
            ]
          },
          "metadata":{
            
          },
          "output_type":"display_data"
        }
      ],
      "metadata":{
        
      }
    },
    {
      "cell_type":"markdown",
      "source":[
        "# **Importing other file from the web without saving locally**"
      ],
      "attachments":{
        
      },
      "metadata":{
        
      }
    },
    {
      "cell_type":"code",
      "source":[
        "url='http:\/\/s3.amazonaws.com\/assets.datacamp.com\/course\/importing_data_into_r\/latitude.xls'\n",
        "xls=pd.read_excel(url,sheet_name=None)"
      ],
      "execution_count":13,
      "outputs":[
        
      ],
      "metadata":{
        
      }
    },
    {
      "cell_type":"code",
      "source":[
        "print(xls.keys())"
      ],
      "execution_count":14,
      "outputs":[
        {
          "name":"stdout",
          "text":[
            "dict_keys(['1700', '1900'])\n"
          ],
          "output_type":"stream"
        }
      ],
      "metadata":{
        
      }
    },
    {
      "cell_type":"code",
      "source":[
        "df=xls['1700']\n",
        "df.head()"
      ],
      "execution_count":15,
      "outputs":[
        {
          "data":{
            "text\/html":[
              "<div>\n",
              "<style scoped>\n",
              "    .dataframe tbody tr th:only-of-type {\n",
              "        vertical-align: middle;\n",
              "    }\n",
              "\n",
              "    .dataframe tbody tr th {\n",
              "        vertical-align: top;\n",
              "    }\n",
              "\n",
              "    .dataframe thead th {\n",
              "        text-align: right;\n",
              "    }\n",
              "<\/style>\n",
              "<table border=\"1\" class=\"dataframe\">\n",
              "  <thead>\n",
              "    <tr style=\"text-align: right;\">\n",
              "      <th><\/th>\n",
              "      <th>country<\/th>\n",
              "      <th>1700<\/th>\n",
              "    <\/tr>\n",
              "  <\/thead>\n",
              "  <tbody>\n",
              "    <tr>\n",
              "      <th>0<\/th>\n",
              "      <td>Afghanistan<\/td>\n",
              "      <td>34.565000<\/td>\n",
              "    <\/tr>\n",
              "    <tr>\n",
              "      <th>1<\/th>\n",
              "      <td>Akrotiri and Dhekelia<\/td>\n",
              "      <td>34.616667<\/td>\n",
              "    <\/tr>\n",
              "    <tr>\n",
              "      <th>2<\/th>\n",
              "      <td>Albania<\/td>\n",
              "      <td>41.312000<\/td>\n",
              "    <\/tr>\n",
              "    <tr>\n",
              "      <th>3<\/th>\n",
              "      <td>Algeria<\/td>\n",
              "      <td>36.720000<\/td>\n",
              "    <\/tr>\n",
              "    <tr>\n",
              "      <th>4<\/th>\n",
              "      <td>American Samoa<\/td>\n",
              "      <td>-14.307000<\/td>\n",
              "    <\/tr>\n",
              "  <\/tbody>\n",
              "<\/table>\n",
              "<\/div>"
            ]
          },
          "metadata":{
            
          },
          "output_type":"display_data"
        }
      ],
      "metadata":{
        
      }
    }
  ],
  "metadata":{
    
  },
  "nbformat":4,
  "nbformat_minor":0
}